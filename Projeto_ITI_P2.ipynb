{
 "cells": [
  {
   "cell_type": "code",
   "execution_count": 58,
   "id": "192eb059",
   "metadata": {},
   "outputs": [],
   "source": [
    "#importando bibliotecas\n",
    "import time\n",
    "import numpy as np\n",
    "import matplotlib.pyplot as plt\n",
    "import matplotlib.ticker as ticker\n",
    "import matplotlib.ticker as plticker\n",
    "from sklearn.model_selection import train_test_split"
   ]
  },
  {
   "cell_type": "markdown",
   "id": "b7ed9b52",
   "metadata": {},
   "source": [
    "## Função treino\n",
    "\n",
    "Foi-se separado as funcionalidades do nosso algoritmo em duas funções: teste e treino. A função treino abaixo tem dois parâmentros: *trein* que representa a parte do banco de dados que foi separada para o treino e *k* que representa o indice do dicinario com k bits. Ela retorna o dicionario resultante do treinamento utilizando os dois paramentros."
   ]
  },
  {
   "cell_type": "code",
   "execution_count": 59,
   "id": "409c2f11",
   "metadata": {},
   "outputs": [],
   "source": [
    "def treino(trein, k):\n",
    "    dicionario = {}\n",
    "    novoValor = 256\n",
    "    novo = ''\n",
    "    antigo = ''\n",
    "    \n",
    "    for i in range(2**8):\n",
    "        dicionario[i.to_bytes(1, 'big')] = i\n",
    "    \n",
    "    for mensagem in trein: \n",
    "        for letra in mensagem: #compressão\n",
    "            novo = antigo + letra\n",
    "\n",
    "            if novo.encode('ISO-8859-1') not in dicionario: \n",
    "                if len(dicionario) < 2**k:\n",
    "                    dicionario[novo.encode('ISO-8859-1')] = novoValor\n",
    "                    novoValor += 1\n",
    "                else:\n",
    "                    break\n",
    "\n",
    "                antigo = letra\n",
    "            else:\n",
    "                antigo = novo\n",
    "        if len(dicionario) >= 2**k:\n",
    "            break\n",
    "        \n",
    "    return dicionario"
   ]
  },
  {
   "cell_type": "markdown",
   "id": "6c2a14bd",
   "metadata": {},
   "source": [
    "## Função teste\n",
    "\n",
    "A função de teste recebe dois paramentros: mensagem e dicionario. Sendo mensagem a representação de uma amostra da parte separada do banco de dados para os testes que nesse caso é um som e dicionario a representação de um dicionario que já passou pela fase de treinamento. Sendo assim, a função abaixo retorna o tamanho do som, recebida como parametro, comprimida."
   ]
  },
  {
   "cell_type": "code",
   "execution_count": 60,
   "id": "a9b6108a",
   "metadata": {},
   "outputs": [],
   "source": [
    "def teste(mensagem, dicionario):\n",
    "    msgComp = []\n",
    "    novo = ''\n",
    "    antigo = ''\n",
    "\n",
    "    for letra in mensagem:\n",
    "        novo = antigo + letra\n",
    "\n",
    "        if novo.encode('ISO-8859-1') not in dicionario: \n",
    "\n",
    "            numCod = dicionario[antigo.encode('ISO-8859-1')]\n",
    "            msgComp.append(numCod)\n",
    "\n",
    "            antigo = letra\n",
    "        else:\n",
    "            antigo = novo\n",
    "\n",
    "    numCod = dicionario[antigo.encode('ISO-8859-1')]\n",
    "    msgComp.append(numCod)\n",
    "\n",
    "    return len(msgComp)"
   ]
  },
  {
   "cell_type": "markdown",
   "id": "2b275f93",
   "metadata": {},
   "source": [
    "## Reconhcendo os padrões\n",
    "\n",
    "Para a implementação a abaixo, foi-se declarado a variavel K que representa uma lista com valores entre 9 e 16 que são os tamanhos de bits para serem testados nos indices do dicionario, utilizou-se a variavel tempo para a medição do tempo de execução do algoritmo e a variável acertos representa a quantidade de vezes de quando a decodificação dos sons testados deram certo com o dicionario feito pela função de treino."
   ]
  },
  {
   "cell_type": "code",
   "execution_count": 61,
   "id": "b9c13dbe",
   "metadata": {},
   "outputs": [
    {
     "name": "stdout",
     "output_type": "stream",
     "text": [
      "RESULTADO: K = 9 -> acertos: 1\n",
      "RESULTADO: K = 10 -> acertos: 1\n",
      "RESULTADO: K = 11 -> acertos: 0\n",
      "RESULTADO: K = 12 -> acertos: 1\n",
      "RESULTADO: K = 13 -> acertos: 0\n",
      "RESULTADO: K = 14 -> acertos: 1\n",
      "RESULTADO: K = 15 -> acertos: 3\n",
      "RESULTADO: K = 16 -> acertos: 3\n"
     ]
    }
   ],
   "source": [
    "K = [9,10,11,12,13,14,15,16]\n",
    "instrumentos = [\"cel\", \"cla\", \"flu\", \"gac\", \"gel\", \"org\", \"pia\", \"sax\", \"tru\", \"vio\"]\n",
    "acertos = []\n",
    "tempo = []\n",
    "\n",
    "for k in range(9, 17): \n",
    "    inicio = time.time()\n",
    "    testes = []\n",
    "    dicionario = []\n",
    "    nAcertos = 0\n",
    "\n",
    "    for i in instrumentos: \n",
    "        som = []\n",
    "        \n",
    "        for j in range(0, 100): # quantidade de sons presente em cada pasta de cada instrumento\n",
    "            arquivo = open(\"IRMAS-TrainingData_red/\"+ i + \"/\" + i + str(j+1) + \".wav\", \"rb\").read()[14:]\n",
    "            arquivo = arquivo.decode('ISO-8859-1')\n",
    "            som.append(arquivo)\n",
    "\n",
    "        trein, test = train_test_split(som, test_size=0.1, random_state=np.random) \n",
    "        testes.append(test[0])\n",
    "        dicionario.append(treino(trein, k))\n",
    "        \n",
    "####  Reconhecendo os padrões   ####\n",
    "    for i in range(len(testes)):\n",
    "        menor = 10000000\n",
    "        \n",
    "        for j in range(len(dicionario)):\n",
    "            tam = teste(testes[i], dicionario[j])\n",
    "            \n",
    "            if(tam < menor):\n",
    "                menor = tam\n",
    "                indice = j\n",
    "                \n",
    "        if(i == indice):\n",
    "            nAcertos += 1\n",
    "\n",
    "    print(\"RESULTADO: K = \" +str(k)+ \" -> acertos: \"+str(nAcertos))\n",
    "    acertos.append(nAcertos)\n",
    "\n",
    "    fim = time.time()\n",
    "    tempo.append(fim-inicio)"
   ]
  },
  {
   "cell_type": "markdown",
   "id": "9ff1aa16",
   "metadata": {},
   "source": [
    "## Gerando Gráficos"
   ]
  },
  {
   "cell_type": "code",
   "execution_count": 62,
   "id": "cc475fcc",
   "metadata": {},
   "outputs": [
    {
     "data": {
      "image/png": "[encoded data removed]",
      "text/plain": [
       "<Figure size 720x432 with 2 Axes>"
      ]
     },
     "metadata": {
      "needs_background": "light"
     },
     "output_type": "display_data"
    }
   ],
   "source": [
    "# Gráfico do tempo pelo K\n",
    "fig, ax = plt.subplots(nrows=1, ncols=2,figsize=(10, 6))\n",
    "ax[0].plot(K, tempo, 'go-', linewidth=2, markersize=8)\n",
    "ax[0].xaxis.set_major_locator(ticker.MultipleLocator(1))\n",
    "ax[0].set(xlabel='K', ylabel='Tempo em segundos', title='Gráfico do tempo pelo K')\n",
    "ax[0].grid()\n",
    "\n",
    "# Gráfico de Acertos por K\n",
    "ax[1].plot(K, acertos, 'go-', linewidth=2, markersize=8)\n",
    "ax[1].xaxis.set_major_locator(ticker.MultipleLocator(base=2.0))\n",
    "ax[1].set(xlabel='K', ylabel='Acertos', title='Acertos por K')\n",
    "ax[1].grid()\n",
    "\n",
    "plt.tight_layout()\n",
    "plt.show()"
   ]
  }
 ],
 "metadata": {
  "kernelspec": {
   "display_name": "Python 3",
   "language": "python",
   "name": "python3"
  },
  "language_info": {
   "codemirror_mode": {
    "name": "ipython",
    "version": 3
   },
   "file_extension": ".py",
   "mimetype": "text/x-python",
   "name": "python",
   "nbconvert_exporter": "python",
   "pygments_lexer": "ipython3",
   "version": "3.8.8"
  }
 },
 "nbformat": 4,
 "nbformat_minor": 5
}
